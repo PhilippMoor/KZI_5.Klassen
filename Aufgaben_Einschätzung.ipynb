{
 "cells": [
  {
   "cell_type": "markdown",
   "id": "5e9ed7a9-9b75-4dea-80cc-16e061bbccf6",
   "metadata": {},
   "source": [
    "# Aufgaben"
   ]
  },
  {
   "cell_type": "markdown",
   "id": "91f0a026-1e47-48c8-9885-59ac8fbd03d3",
   "metadata": {},
   "source": [
    "## Aufgabe 1:\n",
    "### Fibonacci-Zahlen\n",
    "\n",
    "Die Fibonacci-Zahlen sind das klassische Beispiel für\n",
    "eine rekursiv definierte Zahlenfolge:\n",
    "$$\n",
    "a_n=a_{n-2}+a_{n-1}, \\quad a_0=a_1=1 \\quad 1,1,2,3,5,8,13,21, \\ldots\n",
    "$$\n",
    "\n",
    "Schreibe ein Programm, das eine Zahl n vom Benutzer verlangt und die n-te Fibonacci Zahl ausgibt."
   ]
  },
  {
   "cell_type": "code",
   "execution_count": null,
   "id": "feeb82c6-602f-40fc-b3ce-cd240167af0d",
   "metadata": {},
   "outputs": [],
   "source": [
    "# Schreiben Sie hier ihren Code"
   ]
  },
  {
   "cell_type": "markdown",
   "id": "2338ba5c-ac0f-4a72-801a-cbb1e251fd23",
   "metadata": {},
   "source": [
    "## Aufgabe 2:\n",
    "### Ein altes Rätsel von Sam Loyd (1841–1911):\n",
    "\n",
    "Neulich sah ich mir zusammen mit einem Freund die Attraktionen auf Coney Island an, und dabei lernten wir\n",
    "kennen, was uns jemand als das ehrlichste Spiel am ganzen Strand anpries. Da waren zehn kleine Figuren,\n",
    "die man mit einem Ball umwerfen musste. Der Mann sagte: «Für 1 Cent haben Sie einen Wurf, und Sie können werfen,\n",
    "so oft Sie wollen, und so dicht ’rangehen, wie Sie wollen. Zählen Sie die Zahlen auf den Figuren, die Sie umwerfen zusammen, und wenn Sie genau 50 haben, nicht mehr und nicht weniger, erhalten Sie eine prächtige Maggie-Cline- Zigarre mit einem Goldband drum herum.» Unser Geld war alle, noch bevor wir heraus hatten, wie man eigentlich gewinnen konnte. Ausserdem fiel uns auf, dass eine ganze Menge Leute genauso wenig Maggie-Cline-Zigarren rauchten wie wir. Wissen Sie, wie man genau 50 Punkte macht?\n",
    "Die Aufgabe besteht also darin, aus den gegebenen Zahlen jene herauszusuchen, die zusammen die Summe 50 ergeben:\n",
    "25, 27, 3, 12, 6, 15, 9, 30, 21, 19\n",
    "\n",
    "Schreibe ein Programm, das diese Aufgabe für dich übernimmt!"
   ]
  },
  {
   "cell_type": "code",
   "execution_count": null,
   "id": "7ebcf0cf-80b9-411c-8979-75cfc1afa576",
   "metadata": {},
   "outputs": [],
   "source": [
    "# Schreiben Sie hier ihren Code"
   ]
  },
  {
   "cell_type": "markdown",
   "id": "b9cb1e52-fd15-45d3-90ca-97cb628ad01e",
   "metadata": {},
   "source": [
    "## Aufgabe 3:\n",
    "### Wert einer Zeichenkette\n",
    "\n",
    "Schreibe ein Programm, das aus einer beliebigen Zeichenkette, den Gesamtwert aller darin enthaltenen Buchstaben aufsummiert. Der Wert eines Buchstabes ergibt sich dabei aus seiner Position im Alphabet, also A=1, B=2 ... Z=26.\n",
    "\n",
    "Gross- und Kleinschreibung spielt dabei keine Rolle.\n",
    " \n",
    "\n",
    "Welchen Wert hat die folgende Zeichenkette?\n",
    "\n",
    "\n",
    "'slkdfjb543--..wdwnsmwqpieo  fubwicbxoiwkewdioefncwbviwrc.,  fueodoqiewncvnwofuwb'\n",
    "\n",
    "## Tipps\n",
    "* Verwende Listen\n",
    "* erzeuge die Listen, statt sie zu schreiben"
   ]
  },
  {
   "cell_type": "code",
   "execution_count": null,
   "id": "1c07028b-8541-4055-9646-56bfcc721731",
   "metadata": {},
   "outputs": [],
   "source": [
    "# Schreiben Sie hier ihren Code"
   ]
  }
 ],
 "metadata": {
  "kernelspec": {
   "display_name": "Python 3 (ipykernel)",
   "language": "python",
   "name": "python3"
  },
  "language_info": {
   "codemirror_mode": {
    "name": "ipython",
    "version": 3
   },
   "file_extension": ".py",
   "mimetype": "text/x-python",
   "name": "python",
   "nbconvert_exporter": "python",
   "pygments_lexer": "ipython3",
   "version": "3.9.7"
  }
 },
 "nbformat": 4,
 "nbformat_minor": 5
}
