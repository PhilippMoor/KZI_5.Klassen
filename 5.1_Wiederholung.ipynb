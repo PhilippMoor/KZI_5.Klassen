{
 "cells": [
  {
   "cell_type": "markdown",
   "id": "ddb5aab3-7b35-4071-b70a-434f289cbb55",
   "metadata": {},
   "source": [
    "In dieser Übungseinheit wiederholen wir die Grundkonzepte der Python-Programmierung. Die Aufgaben sind so gestaltet, dass sie Ihnen helfen, Ihr Wissen aufzufrischen und Ihr Verständnis zu vertiefen. Lesen Sie die Anweisungen sorgfältig und bearbeiten Sie jede Aufgabe in der gegebenen Reihenfolge.\n"
   ]
  },
  {
   "cell_type": "markdown",
   "id": "e93c7b94-de87-4d11-bb12-567b48dccce7",
   "metadata": {},
   "source": [
    "### 1. Variablen und Datentypen\n"
   ]
  },
  {
   "cell_type": "markdown",
   "id": "7188c6f5-8939-4028-bec4-aa88e0ea494c",
   "metadata": {},
   "source": [
    "Variablen dienen dazu, Daten zu speichern, die später verwendet werden können. In Python können Variablen verschiedene Datentypen haben, wie z. B. int (Ganzzahlen), float (Gleitkommazahlen), str (Zeichenketten) und bool (Wahrheitswerte).\n",
    "\n",
    "Beispiel:"
   ]
  },
  {
   "cell_type": "code",
   "execution_count": null,
   "id": "6c79a7d2-e753-4bcd-8541-8f249a948d82",
   "metadata": {},
   "outputs": [],
   "source": [
    "x = 10 #int\n",
    "y = 3.5 #float\n",
    "name = \"Alice\" #string\n",
    "is_student = True #bool"
   ]
  },
  {
   "cell_type": "markdown",
   "id": "92113d18-219b-4e1b-aaaa-6ae0ebbe64bc",
   "metadata": {},
   "source": [
    "Mittels input() können wir vom User eine Eingabe engtegennehmen. Innerhalb der Klammern kann noch ein Text hinterlegt werden, der dem User helfen soll die Eingae zu tätigen.\n",
    "\n",
    "Beispiel:\n"
   ]
  },
  {
   "cell_type": "code",
   "execution_count": 4,
   "id": "fe161557-df8e-4475-b5c6-bb1517ab1ed9",
   "metadata": {},
   "outputs": [
    {
     "name": "stdin",
     "output_type": "stream",
     "text": [
      "Bitte geben Sie ihren Namen an: karl\n"
     ]
    }
   ],
   "source": [
    "name = input(\"Bitte geben Sie ihren Namen an:\")"
   ]
  },
  {
   "cell_type": "markdown",
   "id": "4641e096-241a-4a08-bda7-a82ee5a4c3fd",
   "metadata": {},
   "source": [
    "Aufgabe 1: Berechnung von Flächen\n",
    "\n",
    "Schreiben Sie ein Programm, das die Fläche eines Rechtecks berechnet. Der Benutzer soll die Länge und die Breite eingeben können, und das Programm soll die Fläche ausgeben.\n",
    "\n",
    "Tipp: Eingaben der Nutzer können wir mittels input(\"\") entgegennehmen. Achten Sie darauf, den Input in den entsprechenden Datentyp umzuwandeln."
   ]
  },
  {
   "cell_type": "code",
   "execution_count": null,
   "id": "d066cd71-c60d-4f9a-94e4-4d19f6c876a5",
   "metadata": {},
   "outputs": [],
   "source": [
    "# Aufgabe 1: Berechnen Sie die Fläche eines Rechtecks\n",
    "# Hinweis: Fläche = Länge * Breite"
   ]
  },
  {
   "cell_type": "code",
   "execution_count": null,
   "id": "36c6f047-7fa4-41eb-9c37-103a329bebb8",
   "metadata": {},
   "outputs": [],
   "source": []
  },
  {
   "cell_type": "markdown",
   "id": "8a50be3a-cd7e-4afd-807b-b5b767c027d8",
   "metadata": {},
   "source": [
    "### 2. Bedingungen\n"
   ]
  },
  {
   "cell_type": "markdown",
   "id": "c9f1393f-96cd-4e56-80c3-af412631b501",
   "metadata": {},
   "source": [
    "Mit Bedingungen können wir Entscheidungen in unserem Programm treffen. Die grundlegende Syntax in Python verwendet if, elif und else.\n",
    "\n",
    "Beispiel:"
   ]
  },
  {
   "cell_type": "code",
   "execution_count": null,
   "id": "6fc0686b-77b5-4483-92e9-34210e8ce959",
   "metadata": {},
   "outputs": [],
   "source": [
    "x = 5\n",
    "if x > 10:\n",
    "    print(\"x ist größer als 10\")\n",
    "else:\n",
    "    print(\"x ist kleiner oder gleich 10\")"
   ]
  },
  {
   "cell_type": "markdown",
   "id": "13444cea-97dd-41af-a392-0774efda596a",
   "metadata": {},
   "source": [
    "Falls wir mehrere Fragen hintereinanderstellen möchten, können wir den Ablauf if-elif-...-else nutzen. Ein elif wird nur ausgeführt, sollte das vorhergehende if-Statement Falsch sein.\n",
    "\n",
    "Beispiel:"
   ]
  },
  {
   "cell_type": "code",
   "execution_count": 7,
   "id": "bf7c382f-74b2-4ea8-8aa6-116342926768",
   "metadata": {},
   "outputs": [
    {
     "name": "stdin",
     "output_type": "stream",
     "text": [
      "Geben Sie eine Schulnote ein 5.2\n"
     ]
    },
    {
     "name": "stdout",
     "output_type": "stream",
     "text": [
      "Super\n"
     ]
    }
   ],
   "source": [
    "note = float(input(\"Geben Sie eine Schulnote ein\"))\n",
    "if note >= 5:\n",
    "    print(\"Super\")\n",
    "elif note >= 4:\n",
    "    print(\"Gut\")\n",
    "else:\n",
    "    print(\"Ungenügend\")"
   ]
  },
  {
   "cell_type": "markdown",
   "id": "722e8b8e-1e0d-4888-a609-670c0d4baffb",
   "metadata": {},
   "source": [
    "Aufgabe 2: Altersüberprüfung\n",
    "\n",
    "Schreiben Sie ein Programm, das das Alter eines Benutzers abfragt. Wenn das Alter unter 18 ist, soll das Programm „Sie sind minderjährig“ ausgeben, andernfalls „Sie sind volljährig“."
   ]
  },
  {
   "cell_type": "code",
   "execution_count": null,
   "id": "d473753e-ce21-4463-a582-136462dcbbc5",
   "metadata": {},
   "outputs": [],
   "source": [
    "# Aufgabe 2: Altersüberprüfung\n",
    "# Hinweis: Verwenden Sie if-else Bedingungen"
   ]
  },
  {
   "cell_type": "code",
   "execution_count": null,
   "id": "5b2c5ed1-d597-4349-9a51-1d88406690f5",
   "metadata": {},
   "outputs": [],
   "source": []
  },
  {
   "cell_type": "markdown",
   "id": "1741f0e3-0e37-4f31-8133-a1637a0917fd",
   "metadata": {},
   "source": [
    "### 3. Schleifen\n"
   ]
  },
  {
   "cell_type": "markdown",
   "id": "230c6e14-d293-4b89-b0a9-bb966157f24c",
   "metadata": {},
   "source": [
    "Schleifen erlauben es, Codeblöcke mehrmals auszuführen. Python bietet zwei Arten von Schleifen: die for-Schleife und die while-Schleife.\n",
    "\n",
    "Beispiele:"
   ]
  },
  {
   "cell_type": "code",
   "execution_count": null,
   "id": "3d83c9df-7b30-4f9f-ac8b-49a16e0dc6af",
   "metadata": {},
   "outputs": [],
   "source": [
    "for i in range(5):\n",
    "    print(i)"
   ]
  },
  {
   "cell_type": "code",
   "execution_count": null,
   "id": "3538e4fb-1348-4609-9b18-2ac829c3e373",
   "metadata": {},
   "outputs": [],
   "source": [
    "count = 0\n",
    "while count < 5:\n",
    "    print(count)\n",
    "    count += 1"
   ]
  },
  {
   "cell_type": "markdown",
   "id": "d4b8ebfe-b7e6-4442-a7da-2600613ec20b",
   "metadata": {},
   "source": [
    "Mit dem Befehl break können wir eine Schleife vorzeitig abbrechen. Python wird das Programm anschliessend ausserhalb der Schleife fortsetzen. Diese Funktion kann nützlich sein, um z.B der Gefahr durch 0 zu dividieren aus dem Weg zu gehen:"
   ]
  },
  {
   "cell_type": "code",
   "execution_count": 11,
   "id": "5cb3ae83-08fd-442c-a6b0-ecebedb10ca4",
   "metadata": {},
   "outputs": [
    {
     "name": "stdout",
     "output_type": "stream",
     "text": [
      "-0.1\n",
      "-0.1111111111111111\n",
      "-0.125\n",
      "-0.14285714285714285\n",
      "-0.16666666666666666\n",
      "-0.2\n",
      "-0.25\n",
      "-0.3333333333333333\n",
      "-0.5\n",
      "-1.0\n",
      "Division durch Null!\n"
     ]
    }
   ],
   "source": [
    "for i in range(-10,10):\n",
    "    if i == 0:\n",
    "        print(\"Division durch Null!\")\n",
    "        break\n",
    "    print(1/i)"
   ]
  },
  {
   "cell_type": "markdown",
   "id": "17787d75-4b43-44fa-bf4b-5c3a7ae0601a",
   "metadata": {},
   "source": [
    "Wir müssen jedoch nicht immer gleich die Schleife abbrechen, sondern können auch einzelne Iterationen überspringen. Mit dem Befehl continue kann eine einzelne Iteration übersprungen werden:"
   ]
  },
  {
   "cell_type": "code",
   "execution_count": 12,
   "id": "700bbf2d-ebd7-4011-9fd8-25b3eb2768f3",
   "metadata": {},
   "outputs": [
    {
     "name": "stdout",
     "output_type": "stream",
     "text": [
      "-0.1\n",
      "-0.1111111111111111\n",
      "-0.125\n",
      "-0.14285714285714285\n",
      "-0.16666666666666666\n",
      "-0.2\n",
      "-0.25\n",
      "-0.3333333333333333\n",
      "-0.5\n",
      "-1.0\n",
      "Division durch Null! --> Iteration übersprungen\n",
      "1.0\n",
      "0.5\n",
      "0.3333333333333333\n",
      "0.25\n",
      "0.2\n",
      "0.16666666666666666\n",
      "0.14285714285714285\n",
      "0.125\n",
      "0.1111111111111111\n"
     ]
    }
   ],
   "source": [
    "for i in range(-10,10):\n",
    "    if i == 0:\n",
    "        print(\"Division durch Null! --> Iteration übersprungen\")\n",
    "        continue\n",
    "    print(1/i)"
   ]
  },
  {
   "cell_type": "markdown",
   "id": "cfba2a30-44b7-4618-9b52-173534478489",
   "metadata": {},
   "source": [
    "Aufgabe 3: Summenberechnung\n",
    "\n",
    "Schreiben Sie ein Programm, das die Summe der Zahlen von 1 bis 100 berechnet."
   ]
  },
  {
   "cell_type": "code",
   "execution_count": null,
   "id": "cb8f6366-3d18-4ba8-9cb6-9dafe35bbb49",
   "metadata": {},
   "outputs": [],
   "source": []
  },
  {
   "cell_type": "markdown",
   "id": "b18f35cd-37cf-4831-8417-236b992b5578",
   "metadata": {},
   "source": [
    "### 4. Listen\n"
   ]
  },
  {
   "cell_type": "markdown",
   "id": "6fd249f3-847f-4b0d-9fe9-3eb58b7bc667",
   "metadata": {},
   "source": [
    "Listen sind geordnete Sammlungen von Elementen. Sie können verschiedene Datentypen enthalten und erlauben den Zugriff auf einzelne Elemente über ihre Indizes.\n",
    "\n",
    "Beispiel:"
   ]
  },
  {
   "cell_type": "code",
   "execution_count": null,
   "id": "d76e4190-f7fe-48f3-91a8-26958cc882e1",
   "metadata": {},
   "outputs": [],
   "source": [
    "fruits = [\"Apfel\", \"Banane\", \"Kirsche\"]\n",
    "print(fruits[0])  # Gibt \"Apfel\" aus"
   ]
  },
  {
   "cell_type": "markdown",
   "id": "caab563f-b0a8-40bb-8fb3-7b9d799589cf",
   "metadata": {},
   "source": [
    "Wir können Listen auch verschachteln, um somit zwei- oder mehrdimensionale Listen zu erstellen.\n",
    "\n",
    "Beispiel:"
   ]
  },
  {
   "cell_type": "code",
   "execution_count": 3,
   "id": "7700ce36-ba33-444d-ac28-2333e40ae5b9",
   "metadata": {},
   "outputs": [
    {
     "name": "stdout",
     "output_type": "stream",
     "text": [
      "['X', 'O', 'X']\n",
      "['O', 'X', 'O']\n",
      "['X', 'X', 'O']\n",
      "Das Element auf der ersten Zeile, dritter Spalte ist ein: X\n"
     ]
    }
   ],
   "source": [
    "tic_tac_toe_feld = [[\"X\",\"O\",\"X\"],[\"O\",\"X\",\"O\"],[\"X\",\"X\",\"O\"]]\n",
    "for zeile in tic_tac_toe_feld:\n",
    "    print(zeile)\n",
    "print(\"Das Element auf der ersten Zeile, dritter Spalte ist ein:\",tic_tac_toe_feld[0][2])"
   ]
  },
  {
   "cell_type": "markdown",
   "id": "866f7f60-f898-44b5-9c4a-bf8d9d3f5ca1",
   "metadata": {},
   "source": [
    "Aufgabe 4: Höchster Wert in einer Liste\n",
    "\n",
    "Schreiben Sie ein Programm, das den höchsten Wert in einer Liste von Zahlen findet."
   ]
  },
  {
   "cell_type": "code",
   "execution_count": null,
   "id": "d55b7e82-b6d3-432d-91ec-43106f57e7c1",
   "metadata": {},
   "outputs": [],
   "source": [
    "# Aufgabe 4: Finden Sie den höchsten Wert in einer Liste\n",
    "numbers = [3, 1, 4, 1, 5, 9, 2, 6, 5]\n",
    "# Tipp: Sie können eine for-Schleife oder die eingebaute Funktion max() verwenden."
   ]
  },
  {
   "cell_type": "markdown",
   "id": "11377708-047a-4f7f-952e-eb6fb93a2ef9",
   "metadata": {},
   "source": [
    "### 5. Funktionen\n"
   ]
  },
  {
   "cell_type": "markdown",
   "id": "a726bdf6-cc74-4952-a8fb-742350d27e26",
   "metadata": {},
   "source": [
    "Funktionen helfen dabei, wiederverwendbaren Code zu erstellen. Sie nehmen Eingaben, führen Berechnungen durch und geben Ergebnisse zurück.\n",
    "\n",
    "Beispiel:"
   ]
  },
  {
   "cell_type": "code",
   "execution_count": null,
   "id": "55051839-dd80-49b6-817d-add34eafd040",
   "metadata": {},
   "outputs": [],
   "source": [
    "def addiere(a, b):\n",
    "    return a + b\n",
    "\n",
    "print(addiere(3, 4))  # Gibt 7 aus"
   ]
  },
  {
   "cell_type": "markdown",
   "id": "83c64e28-788b-42ba-b9f9-5b346fa1b0ac",
   "metadata": {},
   "source": [
    "Das Wort ''return'' markiert hierbei die Rückgabe der Funktion und beendet diese, sobald die Zeile mit return ausgeführt wird."
   ]
  },
  {
   "cell_type": "markdown",
   "id": "8fabed74-55e2-4337-8aa1-355df386bf0f",
   "metadata": {},
   "source": [
    "### 6. Allgemeine Aufgaben\n"
   ]
  },
  {
   "cell_type": "markdown",
   "id": "5caccde8-3f47-4ad6-a392-de61a926a218",
   "metadata": {},
   "source": [
    "Aufgabe 1:\n",
    "\n",
    "\n",
    "Schreiben Sie eine Funktion, die prüft, ob eine Zahl eine Primzahl ist. Eine Zahl ist genau dann eine Primzahl, wenn sie grösser als 1 ist und nur durch 1 und sich selbst teilbar ist."
   ]
  },
  {
   "cell_type": "code",
   "execution_count": null,
   "id": "0604a53f-749c-4f8a-96a1-fa7d63425629",
   "metadata": {},
   "outputs": [],
   "source": [
    "# Hinweis: Verwenden Sie eine Schleife und die Modulo-Operation (%), um die Teilbarkeit zu überprüfen."
   ]
  },
  {
   "cell_type": "markdown",
   "id": "bbb88e1a-e658-45c1-90f4-98080b558530",
   "metadata": {},
   "source": [
    "Aufgabe 2:\n",
    "\n",
    "Schreiben Sie ein Programm, das die Zahlen von 1 bis 100 ausgibt. Aber:\n",
    "\n",
    "\t•\tFür Vielfache von 3 soll es “Fizz” ausgeben,\n",
    "\t•\tFür Vielfache von 5 soll es “Buzz” ausgeben,\n",
    "\t•\tFür Vielfache von 3 und 5 soll es “FizzBuzz” ausgeben."
   ]
  },
  {
   "cell_type": "code",
   "execution_count": null,
   "id": "8468bee6-a15a-4791-8266-5942e29db1b7",
   "metadata": {},
   "outputs": [],
   "source": [
    "# Tipp: Verwenden Sie if-elif-else Bedingungen und Modulo-Operationen"
   ]
  },
  {
   "cell_type": "markdown",
   "id": "a8f45dd3-60ef-48dd-b613-95c4772262c0",
   "metadata": {},
   "source": [
    "\n"
   ]
  }
 ],
 "metadata": {
  "kernelspec": {
   "display_name": "Python 3 (ipykernel)",
   "language": "python",
   "name": "python3"
  },
  "language_info": {
   "codemirror_mode": {
    "name": "ipython",
    "version": 3
   },
   "file_extension": ".py",
   "mimetype": "text/x-python",
   "name": "python",
   "nbconvert_exporter": "python",
   "pygments_lexer": "ipython3",
   "version": "3.9.7"
  }
 },
 "nbformat": 4,
 "nbformat_minor": 5
}
