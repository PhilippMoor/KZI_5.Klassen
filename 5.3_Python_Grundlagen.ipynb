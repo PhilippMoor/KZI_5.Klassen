{
 "cells": [
  {
   "cell_type": "markdown",
   "id": "adb597f0",
   "metadata": {},
   "source": [
    "# Python Grundlagen - Wiederholung\n",
    "\n",
    "Dieses Notebook führt Sie durch die grundlegenden Konzepte von Python. Jede Sektion enthält eine kurze Einführung, Beispiele und Aufgaben. Am Ende finden Sie Kontrollaufgaben, um Ihr Wissen zu überprüfen."
   ]
  },
  {
   "cell_type": "markdown",
   "id": "7574c3c7",
   "metadata": {},
   "source": [
    "## 1. Variablen und Datentypen\n",
    "Variablen sind Behälter, die Daten speichern. Python erkennt den Datentyp automatisch.\n",
    "\n",
    "- **Ganzzahlen (`int`)**: z. B. `42`\n",
    "- **Fliesskommazahlen (`float`)**: z. B. `3.14`\n",
    "- **Zeichenketten (`str`)**: z. B. `'Hallo'`\n",
    "- **Wahrheitswerte (`bool`)**: z. B. `True`, `False`\n"
   ]
  },
  {
   "cell_type": "code",
   "execution_count": null,
   "id": "4391ef8a",
   "metadata": {},
   "outputs": [],
   "source": [
    "# Beispiel:\n",
    "alter = 16  # Ganzzahl\n",
    "temperatur = 22.5  # Fließkommazahl\n",
    "name = 'Markus'  # Zeichenkette\n",
    "mag_python = True  # Wahrheitswert\n",
    "\n",
    "# Ausgabe:\n",
    "print('Alter:', alter)\n",
    "print('Temperatur:', temperatur)\n",
    "print('Name:', name)\n",
    "print('Mag Python:', mag_python)"
   ]
  },
  {
   "cell_type": "markdown",
   "id": "b9575ad0",
   "metadata": {},
   "source": [
    "### Aufgabe 1:\n",
    "1. Speichern Sie Ihren Namen, Ihr Alter und Ihre Lieblingszahl in Variablen.\n",
    "2. Geben Sie die Variablen in einem vollständigen Satz aus, z. B.:\n",
    "   `Ich heisse Max, bin 16 Jahre alt und meine Lieblingszahl ist 7.`"
   ]
  },
  {
   "cell_type": "code",
   "execution_count": null,
   "id": "8c400ab1-3e82-4780-87b6-8f578110deaa",
   "metadata": {},
   "outputs": [],
   "source": [
    "# Schreiben Sie hier ihre Lösung\n"
   ]
  },
  {
   "cell_type": "markdown",
   "id": "143c8152-9f87-4814-a929-d1df91585746",
   "metadata": {},
   "source": [
    "<details>\n",
    "  <summary>Lösung:</summary>\n",
    "\n",
    "  <pre><code class=\"language-python\">\n",
    "name = \"Name\"\n",
    "alter = 17\n",
    "lieblingszahl = 3.14\n",
    "print(\"Ich heisse\",name,\"bin\",alter,\"Jahre alt und meine Lieblingszahl ist\",lieblingszahl)\n",
    "  </code></pre>\n",
    "</details>"
   ]
  },
  {
   "cell_type": "markdown",
   "id": "b5445319",
   "metadata": {},
   "source": [
    "## 2. Listen und Schleifen\n",
    "Eine Liste ist eine Sammlung von Werten, die in einer bestimmten Reihenfolge gespeichert werden.\n",
    "- Beispiel: `fruits = ['Apfel', 'Banane', 'Kirsche']`\n",
    "\n",
    "Schleifen helfen, durch Listen oder andere Datenstrukturen zu iterieren."
   ]
  },
  {
   "cell_type": "code",
   "execution_count": null,
   "id": "e44b546b",
   "metadata": {},
   "outputs": [],
   "source": [
    "# Beispiel:\n",
    "fruits = ['Apfel', 'Banane', 'Kirsche']\n",
    "print('Erste Frucht:', fruits[0])  # Index beginnt bei 0\n",
    "\n",
    "# Schleife:\n",
    "for fruit in fruits:\n",
    "    print('Ich mag', fruit)"
   ]
  },
  {
   "cell_type": "markdown",
   "id": "43d39834",
   "metadata": {},
   "source": [
    "### Aufgabe 2:\n",
    "1. Erstellen Sie eine Liste mit drei Ihrer Lieblingsbücher oder -filme.\n",
    "2. Nutzen Sie eine Schleife, um die Liste auszugeben. Formulieren Sie Sätze wie:\n",
    "   `Eines meiner Lieblingsbücher ist Harry Potter.`"
   ]
  },
  {
   "cell_type": "code",
   "execution_count": null,
   "id": "4c5f9a60-efa6-41a0-b119-1208c3f01c05",
   "metadata": {},
   "outputs": [],
   "source": [
    "# Schreiben Sie hier ihre Lösung\n"
   ]
  },
  {
   "cell_type": "markdown",
   "id": "849e18b5-d66b-467f-bdd7-ee163c1eaf3d",
   "metadata": {},
   "source": [
    "<details>\n",
    "  <summary>Lösung:</summary>\n",
    "\n",
    "  <pre><code class=\"language-python\">\n",
    "filme = [\"Harry Potter\",\"Harry Potter 2\", \"Harry Potter 3\"]\n",
    "for film in filme:\n",
    "      print(film)\n",
    "print(\"Einer meiner Lieblingsfilme ist:\",filme[2])\n",
    "  </code></pre>\n",
    "</details>"
   ]
  },
  {
   "cell_type": "markdown",
   "id": "e182d34f",
   "metadata": {},
   "source": [
    "## 3. Bedingungen (if/else)\n",
    "Bedingungen erlauben es, Entscheidungen in einem Programm zu treffen. Syntax:\n",
    "```python\n",
    "if Bedingung:\n",
    "    # Code, wenn Bedingung wahr ist\n",
    "else:\n",
    "    # Code, wenn Bedingung falsch ist\n",
    "```\n"
   ]
  },
  {
   "cell_type": "code",
   "execution_count": null,
   "id": "6a4d2b2a",
   "metadata": {},
   "outputs": [],
   "source": [
    "# Beispiel:\n",
    "temperatur = 15\n",
    "if temperatur > 20:\n",
    "    print('Es ist warm.')\n",
    "else:\n",
    "    print('Es ist kühl.')"
   ]
  },
  {
   "cell_type": "markdown",
   "id": "452f729a",
   "metadata": {},
   "source": [
    "### Aufgabe 3:\n",
    "1. Schreiben Sie ein Programm, das die Benutzer nach ihrem Alter fragt.\n",
    "2. Wenn das Alter >= 18 ist, geben Sie `Sie sind volljährig.` aus, sonst `Sie sind minderjährig.`"
   ]
  },
  {
   "cell_type": "code",
   "execution_count": null,
   "id": "08d879c4-ce0c-4338-9e20-9125fd8a452f",
   "metadata": {},
   "outputs": [],
   "source": [
    "# Schreiben Sie hier ihre Lösung\n"
   ]
  },
  {
   "cell_type": "markdown",
   "id": "38af2c25-e875-4b6e-9f60-a419e029b5dd",
   "metadata": {},
   "source": [
    "<details>\n",
    "  <summary>Lösung:</summary>\n",
    "\n",
    "  <pre><code class=\"language-python\">\n",
    "alter = int(input(\"Wie alt sind Sie?))\n",
    "if alter < 18:\n",
    "    print(\"Minderjährig\")\n",
    "else:\n",
    "    print(\"Volljährig\")\n",
    "  </code></pre>\n",
    "</details>"
   ]
  },
  {
   "cell_type": "markdown",
   "id": "f80ef0c2-1b87-4ba3-8f36-4af5df1b2cf7",
   "metadata": {},
   "source": [
    "## Erweiterte Bedingungen: if, elif, else\n",
    "\n",
    "Mit `elif` (Abkürzung für *else if*) können Sie zusätzliche Bedingungen prüfen.  \n",
    "`else` wird verwendet, wenn keine der vorherigen Bedingungen wahr ist.\n",
    "\n",
    "### Syntax:\n",
    "```python\n",
    "if Bedingung1:\n",
    "    # Code, wenn Bedingung1 wahr ist\n",
    "elif Bedingung2:\n",
    "    # Code, wenn Bedingung2 wahr ist\n",
    "else:\n",
    "    # Code, wenn keine Bedingung wahr ist"
   ]
  },
  {
   "cell_type": "code",
   "execution_count": null,
   "id": "06c86d74-6569-4259-b8e2-56ae61bf0170",
   "metadata": {},
   "outputs": [],
   "source": [
    "note = 4\n",
    "if note == 6:\n",
    "    print(\"Sehr gut!\")\n",
    "elif note == 5:\n",
    "    print(\"Gut!\")\n",
    "elif note == 4:\n",
    "    print(\"Befriedigend.\")\n",
    "else:\n",
    "    print(\"Verbesserung nötig.\")"
   ]
  },
  {
   "cell_type": "markdown",
   "id": "41718904-55f0-4cc3-965e-69c22a8cc538",
   "metadata": {},
   "source": [
    "### Aufgabe 3.2:\n",
    "\n",
    "\t1.\tSchreiben Sie ein Programm, das die Benutzer nach der aktuellen Temperatur fragt.\n",
    "\t2.\tNutzen Sie if, elif und else, um die folgende Rückmeldung zu geben:\n",
    "\t•\tTemperatur unter 0: “Es ist eisig kalt.”\n",
    "\t•\tTemperatur zwischen 0 und 20: “Es ist kühl.”\n",
    "\t•\tTemperatur zwischen 21 und 30: “Es ist angenehm warm.”\n",
    "\t•\tTemperatur über 30: “Es ist heiss!”"
   ]
  },
  {
   "cell_type": "code",
   "execution_count": null,
   "id": "a16abdff-e221-4349-9654-c7f94f551d07",
   "metadata": {},
   "outputs": [],
   "source": [
    "# Schreiben Sie hier ihre Lösung\n"
   ]
  },
  {
   "cell_type": "markdown",
   "id": "5e2d54db-5ed3-4f4b-a418-a319482699d0",
   "metadata": {},
   "source": [
    "<details>\n",
    "  <summary>Lösung:</summary>\n",
    "\n",
    "  <pre><code class=\"language-python\">\n",
    "temp = float(input(\"Wie ist die momentane Temperatur?))\n",
    "if temp < 0:\n",
    "    print(\"Eisig kalt\")\n",
    "elif temp < 20:\n",
    "    print(\"Es ist kühl.\")\n",
    "elif temp < 30:\n",
    "    print(\"Es ist angeehm warm.\")\n",
    "else:\n",
    "    print(\"Es ist heiss\")\n",
    "  </code></pre>\n",
    "</details>"
   ]
  },
  {
   "cell_type": "markdown",
   "id": "bb17ea5f",
   "metadata": {},
   "source": [
    "## 4. Funktionen\n",
    "Funktionen helfen, Code zu organisieren und wiederzuverwenden. Syntax:\n",
    "```python\n",
    "def funktionsname(parameter):\n",
    "    # Code\n",
    "    return wert\n",
    "```\n"
   ]
  },
  {
   "cell_type": "code",
   "execution_count": null,
   "id": "a300e409",
   "metadata": {},
   "outputs": [],
   "source": [
    "# Beispiel:\n",
    "def addiere(a, b):\n",
    "    return a + b\n",
    "\n",
    "# Funktion aufrufen:\n",
    "ergebnis = addiere(3, 5)\n",
    "print('Ergebnis:', ergebnis)"
   ]
  },
  {
   "cell_type": "markdown",
   "id": "4c8dca7a",
   "metadata": {},
   "source": [
    "### Aufgabe 4:\n",
    "1. Schreiben Sie eine Funktion `quadrat`, die eine Zahl entgegennimmt und das Quadrat zurückgibt.\n",
    "2. Testen Sie die Funktion mit verschiedenen Zahlen."
   ]
  },
  {
   "cell_type": "code",
   "execution_count": null,
   "id": "94d4d962-b6af-492e-84c6-c5666b920f14",
   "metadata": {},
   "outputs": [],
   "source": [
    "# Schreiben Sie hier ihre Lösung\n"
   ]
  },
  {
   "cell_type": "markdown",
   "id": "a54758c2-8906-4126-ab22-1694dfb579de",
   "metadata": {},
   "source": [
    "<details>\n",
    "  <summary>Lösung:</summary>\n",
    "\n",
    "  <pre><code class=\"language-python\">\n",
    "def quadrat(n):\n",
    "      return n ** 2\n",
    "print(quadrat(4))\n",
    "  </code></pre>\n",
    "</details>"
   ]
  },
  {
   "cell_type": "markdown",
   "id": "c9b6830b",
   "metadata": {},
   "source": [
    "## Kontrollaufgaben\n",
    "Überprüfen Sie Ihr Wissen mit den folgenden Aufgaben:\n",
    "\n",
    "1. **Variablen:**\n",
    "   Schreiben Sie ein Programm, das zwei Zahlen in Variablen speichert und ihre Summe berechnet.\n",
    "\n",
    "2. **Listen:**\n",
    "   Erstellen Sie eine Liste mit fünf Zahlen und berechnen Sie deren Durchschnitt.\n",
    "\n",
    "3. **Bedingungen:**\n",
    "   Schreiben Sie ein Programm, das eine Zahl vom Benutzer einliest und überprüft, ob sie gerade oder ungerade ist. (Hinweis: Nutzen Sie den Modulo-Operator % um zu prüfen, ob der Modulo Wert zahl % 2 gleich 0 ist)\n",
    "\n",
    "4. **Funktionen:**\n",
    "   Schreiben Sie eine Funktion `ist_primzahl`, die überprüft, ob eine Zahl eine Primzahl ist."
   ]
  },
  {
   "cell_type": "code",
   "execution_count": null,
   "id": "b9c77d43-92de-444f-ae8f-3c5037408eab",
   "metadata": {},
   "outputs": [],
   "source": [
    "# Schreiben Sie hier ihre Lösung\n"
   ]
  },
  {
   "cell_type": "markdown",
   "id": "6a0206c2-39d4-4b77-83d8-d7caaba1b140",
   "metadata": {},
   "source": [
    " ## Zusatzaufgaben\n",
    "\n",
    "Hier sind weitere Aufgaben, um Ihr Wissen zu vertiefen. Diese Aufgaben kombinieren verschiedene Konzepte, die Sie bisher gelernt haben.\n",
    "\n",
    "### Aufgabe 1: Einkaufswagen\n",
    "1. Erstellen Sie eine Liste namens `einkaufswagen`, die folgende Elemente enthält: `\"Apfel\"`, `\"Brot\"`, `\"Milch\"`.\n",
    "2. Schreiben Sie eine Schleife, die jedes Element in der Liste ausgibt, z. B.: `Sie haben Apfel im Einkaufswagen.`\n",
    "3. Fügen Sie ein weiteres Element (z. B. `\"Butter\"`) zur Liste hinzu und geben Sie die aktualisierte Liste aus.\n",
    "\n",
    "---\n",
    "\n",
    "### Aufgabe 2: Zahlenraten\n",
    "1. Schreiben Sie ein Programm, das eine zufällige Zahl zwischen 1 und 10 generiert (nutzen Sie `import random`).\n",
    "2. Lassen Sie den Benutzer eine Zahl eingeben.\n",
    "3. Überprüfen Sie mit `if`, `elif`, `else`, ob die Zahl zu hoch, zu niedrig oder korrekt ist, und geben Sie eine entsprechende Nachricht aus.\n",
    "\n",
    "---\n",
    "\n",
    "### Aufgabe 3: Temperatur-Umrechnung\n",
    "1. Schreiben Sie eine Funktion `celsius_to_fahrenheit`, die eine Temperatur in Celsius entgegennimmt und in Fahrenheit umrechnet. Die Formel lautet:  \n",
    "   Fahrenheit = Celsius * (9/5) + 32\n",
    "2. Testen Sie die Funktion mit den Werten 0, 25 und 100 Grad Celsius.\n",
    "3. Erweitern Sie das Programm, sodass der Benutzer eine Temperatur in Celsius eingeben kann und die Funktion die umgerechnete Temperatur ausgibt.\n",
    "\n",
    "---\n",
    "\n",
    "### Aufgabe 4: Notenrechner\n",
    "1. Schreiben Sie ein Programm, das eine Liste von fünf Noten (z. B. `[5, 3, 4, 2, 1]`) enthält.\n",
    "2. Berechnen Sie den Durchschnitt der Noten und geben Sie ihn aus.\n",
    "3. Geben Sie eine Nachricht aus, die angibt, ob der Durchschnitt \"Sehr gut\", \"Gut\", \"Genügend\" oder \"Ungenügend\" ist. Nutzen Sie `if`, `elif` und `else` für die Bewertung."
   ]
  },
  {
   "cell_type": "code",
   "execution_count": null,
   "id": "d79353de-f0fe-42b7-82e3-554fcf80c32c",
   "metadata": {},
   "outputs": [],
   "source": [
    "# Schreiben Sie hier ihre Lösung\n"
   ]
  }
 ],
 "metadata": {
  "kernelspec": {
   "display_name": "Python 3 (ipykernel)",
   "language": "python",
   "name": "python3"
  },
  "language_info": {
   "codemirror_mode": {
    "name": "ipython",
    "version": 3
   },
   "file_extension": ".py",
   "mimetype": "text/x-python",
   "name": "python",
   "nbconvert_exporter": "python",
   "pygments_lexer": "ipython3",
   "version": "3.9.7"
  }
 },
 "nbformat": 4,
 "nbformat_minor": 5
}
