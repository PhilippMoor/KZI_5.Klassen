{
 "cells": [
  {
   "cell_type": "markdown",
   "id": "3f752223-4502-4510-8883-c3c68df7adb7",
   "metadata": {},
   "source": [
    "# Beispiele"
   ]
  },
  {
   "cell_type": "markdown",
   "id": "a0a2239c-56eb-4c13-8302-12b26a319636",
   "metadata": {},
   "source": [
    "### 1.Fakultät berechnen\n",
    "\n",
    "Die Fakultät einer Zahl  n  ist definiert als das Produkt aller Zahlen von  1  bis  n .\n",
    "Mathematische Definition:\n",
    "\n",
    "\t•\t 0! = 1  (Basisfall)\n",
    " \n",
    "\t•\t n! = n * (n-1)! "
   ]
  },
  {
   "cell_type": "code",
   "execution_count": null,
   "id": "684ffff6-9904-434b-9f59-6dd2916569fe",
   "metadata": {},
   "outputs": [],
   "source": [
    "def fakultaet(n):\n",
    "    if n == 0 or n == 1:  # Basisfall\n",
    "        return 1\n",
    "    else:\n",
    "        return n * fakultaet(n - 1)  # Rekursiver Schritt\n",
    "\n",
    "# Test\n",
    "print(fakultaet(5))  # Ausgabe: 120"
   ]
  },
  {
   "cell_type": "markdown",
   "id": "684639a0-287e-41db-8d25-0ef146d5cf72",
   "metadata": {},
   "source": [
    "### 2. Fibonacci-Zahlen\n",
    "\n",
    "Die Fibonacci-Zahlen sind definiert durch:\n",
    "\n",
    "\t•\t F(0) = 0 \n",
    " \n",
    "\t•\t F(1) = 1 \n",
    " \n",
    "\t•\t F(n) = F(n-1) + F(n-2) \n"
   ]
  },
  {
   "cell_type": "code",
   "execution_count": null,
   "id": "40661876-c0ec-4fd7-b759-a7b7f3c9a574",
   "metadata": {},
   "outputs": [],
   "source": [
    "def fibonacci(n):\n",
    "    if n == 0:  # Basisfall\n",
    "        return 0\n",
    "    elif n == 1:  # Basisfall\n",
    "        return 1\n",
    "    else:\n",
    "        return fibonacci(n - 1) + fibonacci(n - 2)  # Rekursiver Schritt\n",
    "\n",
    "# Test\n",
    "print(fibonacci(7))  # Ausgabe: 13"
   ]
  },
  {
   "cell_type": "markdown",
   "id": "7aa025bb-6d3c-43e5-9679-db551c65b5c6",
   "metadata": {},
   "source": [
    "# Aufgaben\n",
    "### Aufgabe 1 \n",
    "Potenz berechnen\n",
    "\n",
    "Schreiben Sie eine Funktion potenz(basis, exponent), die rekursiv  basis^{exponent}  berechnet.\n",
    "\n",
    "Hinweis: \n",
    "\n",
    "Die Potenzregel lautet  x^0 = 1  (Basisfall) und  x^n = x * x^{n-1}  für  n > 0 ."
   ]
  },
  {
   "cell_type": "code",
   "execution_count": null,
   "id": "f4187e39-9d6d-44a8-918e-c682741f59ea",
   "metadata": {},
   "outputs": [],
   "source": [
    "# Ihre Lösung hier"
   ]
  },
  {
   "cell_type": "markdown",
   "id": "7bee4617-5124-4e1a-b810-0bba3b3b2126",
   "metadata": {},
   "source": [
    "<details>\n",
    "  <summary>Lösung:</summary>\n",
    "\n",
    "  <pre><code class=\"language-python\">\n",
    "def potenz(basis, exponent):\n",
    "    if exponent == 0:  # Basisfall\n",
    "        return 1\n",
    "    else:\n",
    "        return basis * potenz(basis, exponent - 1)  # Rekursiver Schritt\n",
    "\n",
    "# Testfälle\n",
    "print(potenz(2, 3))  # Ausgabe: 8 (2^3 = 2 * 2 * 2)\n",
    "print(potenz(5, 0))  # Ausgabe: 1 (5^0 = 1)\n",
    "print(potenz(3, 4))  # Ausgabe: 81 (3^4 = 3 * 3 * 3 * 3)\n",
    "  </code></pre>\n",
    "</details>"
   ]
  },
  {
   "cell_type": "markdown",
   "id": "a779087b-b26b-456c-884b-835936fcfaec",
   "metadata": {},
   "source": [
    "### Aufgabe 2 \n",
    "Summe der Zahlen von 1 bis  n \n",
    "\n",
    "Die Summe der Zahlen von 1 bis  n  kann rekursiv berechnet werden:\n",
    "\n",
    "\t•\tBasisfall: Wenn  n = 1 , ist die Summe einfach  1 .\n",
    " \n",
    "\t•\tRekursiver Schritt:  Summe(n) = n + Summe(n-1) ."
   ]
  },
  {
   "cell_type": "code",
   "execution_count": null,
   "id": "27964b43-1849-4b85-abe8-4b5d79d33df4",
   "metadata": {},
   "outputs": [],
   "source": [
    "# Ihre Lösung hier"
   ]
  },
  {
   "cell_type": "markdown",
   "id": "d83cc1f4-098b-478a-a713-f48049791fc7",
   "metadata": {},
   "source": [
    "<details>\n",
    "  <summary>Lösung:</summary>\n",
    "\n",
    "  <pre><code class=\"language-python\">\n",
    "def summe_bis_n(n):\n",
    "    if n == 1:  # Basisfall\n",
    "        return 1\n",
    "    else:\n",
    "        return n + summe_bis_n(n - 1)  # Rekursiver Schritt\n",
    "\n",
    "# Testfälle\n",
    "print(summe_bis_n(5))  # Ausgabe: 15 (1 + 2 + 3 + 4 + 5)\n",
    "print(summe_bis_n(10)) # Ausgabe: 55 (1 + 2 + ... + 10)\n",
    "print(summe_bis_n(1))  # Ausgabe: 1\n",
    "  </code></pre>\n",
    "</details>"
   ]
  },
  {
   "cell_type": "markdown",
   "id": "90ce5f49-6b7a-4d96-ad53-c34adbeaccb2",
   "metadata": {},
   "source": [
    "### Aufgabe 3 \n",
    "Prüfen, ob eine Zahl gerade ist\n",
    "\n",
    "Schreiben Sie eine Funktion ist_gerade(n), die rekursiv überprüft, ob eine Zahl  n  gerade ist.\n",
    "\n",
    "Hinweis: Eine Zahl ist gerade, wenn  n == 0 . \n",
    "\n",
    "Sie ist ungerade, wenn  n == 1 . Ansonsten reduzieren Sie  n  um 2."
   ]
  },
  {
   "cell_type": "code",
   "execution_count": null,
   "id": "332c3630-8351-4d84-b640-fce5fcc4038a",
   "metadata": {},
   "outputs": [],
   "source": [
    "# Ihre Lösung hier"
   ]
  },
  {
   "cell_type": "markdown",
   "id": "e2f3aafd-e1d1-4d89-be90-5b69a5516844",
   "metadata": {},
   "source": [
    "<details>\n",
    "  <summary>Lösung:</summary>\n",
    "\n",
    "  <pre><code class=\"language-python\">\n",
    "def ist_gerade(n):\n",
    "    if n == 0:  # Basisfall: n ist gerade\n",
    "        return True\n",
    "    elif n == 1:  # Basisfall: n ist ungerade\n",
    "        return False\n",
    "    else:\n",
    "        return ist_gerade(n - 2)  # Rekursiver Schritt: n um 2 reduzieren\n",
    "\n",
    "# Testfälle\n",
    "print(ist_gerade(10))  # Ausgabe: True\n",
    "print(ist_gerade(7))   # Ausgabe: False\n",
    "print(ist_gerade(0))   # Ausgabe: True\n",
    "print(ist_gerade(1))   # Ausgabe: False\n",
    "  </code></pre>\n",
    "</details>"
   ]
  },
  {
   "cell_type": "markdown",
   "id": "4e162147-5489-4072-83ba-103452359c5d",
   "metadata": {},
   "source": [
    "### Aufgabe 4\n",
    "Das Collatz-Problem ist ein Problem, das folgendermassen funktioniert:\n",
    "\n",
    "f(n) = \n",
    "- Ende wenn n=1\n",
    "- n/2  wenn n gerade\n",
    "- 3n+1 wenn n ungerade\n",
    "\n",
    "Programmieren Sie das Collatz-Problem rekursiv, dass die Reihenfolge der Werte von n bis 1 auf dem Bildschirm ausgegeben werden."
   ]
  },
  {
   "cell_type": "code",
   "execution_count": null,
   "id": "271938b6-e03a-49ad-a4bf-7ac584171228",
   "metadata": {},
   "outputs": [],
   "source": [
    "# Ihre Lösung Hier"
   ]
  },
  {
   "cell_type": "markdown",
   "id": "b327b237-0e37-4808-8cae-8683e70a2a63",
   "metadata": {},
   "source": [
    "<details>\n",
    "  <summary>Lösung:</summary>\n",
    "\n",
    "  <pre><code class=\"language-python\">\n",
    "def collatz(n):\n",
    "    print(n)  # Aktuellen Wert ausgeben\n",
    "    if n == 1:  # Basisfall: Ende, wenn n = 1\n",
    "        return\n",
    "    elif n % 2 == 0:  # n ist gerade\n",
    "        collatz(n // 2)\n",
    "    else:  # n ist ungerade\n",
    "        collatz(3 * n + 1)\n",
    "\n",
    "# Testfälle\n",
    "collatz(6)  # Ausgabe: 6, 3, 10, 5, 16, 8, 4, 2, 1\n",
    "collatz(19) # Ausgabe: Startet bei 19 und endet bei 1\n",
    "  </code></pre>\n",
    "</details>"
   ]
  },
  {
   "cell_type": "markdown",
   "id": "a79fa67e-e52a-4505-af88-fcaddd0cd708",
   "metadata": {},
   "source": [
    "### Zusatzaufgabe 1\n",
    "Aufgabe: Schreiben Sie eine Funktion ist_prim(n, teiler=2), die überprüft, ob  n  eine Primzahl ist.\n",
    "\n",
    "Hinweis: teiler=2 kann beim Funktionsaufruf erhöht werden."
   ]
  },
  {
   "cell_type": "code",
   "execution_count": null,
   "id": "218b80c8-2930-4510-9b14-f63880264268",
   "metadata": {},
   "outputs": [],
   "source": [
    "# Ihre Lösung hier"
   ]
  },
  {
   "cell_type": "markdown",
   "id": "92c7c707-f0be-4167-8639-46a817e2a40f",
   "metadata": {},
   "source": [
    "<details>\n",
    "  <summary>Lösung:</summary>\n",
    "\n",
    "  <pre><code class=\"language-python\">\n",
    "def ist_prim(n, teiler=2):\n",
    "    if n <= 1:  # Zahlen <= 1 sind keine Primzahlen\n",
    "        return False\n",
    "    if teiler * teiler > n:  # Kein Teiler gefunden, n ist eine Primzahl\n",
    "        return True\n",
    "    if n % teiler == 0:  # Wenn n durch teiler teilbar ist, ist n keine Primzahl\n",
    "        return False\n",
    "    return ist_prim(n, teiler + 1)  # Rekursiver Schritt: nächsten Teiler prüfen\n",
    "\n",
    "# Testfälle\n",
    "print(ist_prim(2))   # Ausgabe: True\n",
    "print(ist_prim(17))  # Ausgabe: True\n",
    "print(ist_prim(18))  # Ausgabe: False\n",
    "print(ist_prim(1))   # Ausgabe: False\n",
    "print(ist_prim(29))  # Ausgabe: True\n",
    "  </code></pre>\n",
    "</details>"
   ]
  },
  {
   "cell_type": "code",
   "execution_count": null,
   "id": "310ea169-ea0f-480c-9c57-01953ab0a0ab",
   "metadata": {},
   "outputs": [],
   "source": []
  }
 ],
 "metadata": {
  "kernelspec": {
   "display_name": "Python 3 (ipykernel)",
   "language": "python",
   "name": "python3"
  },
  "language_info": {
   "codemirror_mode": {
    "name": "ipython",
    "version": 3
   },
   "file_extension": ".py",
   "mimetype": "text/x-python",
   "name": "python",
   "nbconvert_exporter": "python",
   "pygments_lexer": "ipython3",
   "version": "3.9.7"
  }
 },
 "nbformat": 4,
 "nbformat_minor": 5
}
